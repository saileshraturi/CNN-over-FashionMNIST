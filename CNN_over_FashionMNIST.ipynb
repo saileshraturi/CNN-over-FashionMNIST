{
  "nbformat": 4,
  "nbformat_minor": 0,
  "metadata": {
    "colab": {
      "name": "CNN-over-FashionMNIST.ipynb",
      "provenance": [],
      "authorship_tag": "ABX9TyNhS8+ib+ZeoG6eWJCODg2k",
      "include_colab_link": true
    },
    "kernelspec": {
      "name": "python3",
      "display_name": "Python 3"
    },
    "accelerator": "GPU"
  },
  "cells": [
    {
      "cell_type": "markdown",
      "metadata": {
        "id": "view-in-github",
        "colab_type": "text"
      },
      "source": [
        "<a href=\"https://colab.research.google.com/github/saileshraturi/CNN-over-FashionMNIST/blob/master/CNN_over_FashionMNIST.ipynb\" target=\"_parent\"><img src=\"https://colab.research.google.com/assets/colab-badge.svg\" alt=\"Open In Colab\"/></a>"
      ]
    },
    {
      "cell_type": "code",
      "metadata": {
        "id": "swsYCRWAqd3g",
        "colab_type": "code",
        "colab": {}
      },
      "source": [
        "import tensorflow as tf\n",
        "import numpy as np\n",
        "import matplotlib.pyplot as plt\n",
        "from tensorflow.keras.layers import Input,Conv2D,Dense,Flatten,Dropout\n",
        "from tensorflow.keras.models import Model"
      ],
      "execution_count": 0,
      "outputs": []
    },
    {
      "cell_type": "code",
      "metadata": {
        "id": "k3ViL8otrRnl",
        "colab_type": "code",
        "colab": {}
      },
      "source": [
        "#import the data\n",
        "\n",
        "fashion_mnist = tf.keras.datasets.fashion_mnist"
      ],
      "execution_count": 0,
      "outputs": []
    },
    {
      "cell_type": "code",
      "metadata": {
        "id": "MTxtrHw5saav",
        "colab_type": "code",
        "colab": {}
      },
      "source": [
        "(x_train,y_train),(x_test,y_test) = fashion_mnist.load_data()"
      ],
      "execution_count": 0,
      "outputs": []
    },
    {
      "cell_type": "code",
      "metadata": {
        "id": "hQdyxztnst7S",
        "colab_type": "code",
        "outputId": "27752205-1878-492c-dcb2-12882cd7b9a8",
        "colab": {
          "base_uri": "https://localhost:8080/",
          "height": 34
        }
      },
      "source": [
        "print(x_train.shape)"
      ],
      "execution_count": 35,
      "outputs": [
        {
          "output_type": "stream",
          "text": [
            "(60000, 28, 28)\n"
          ],
          "name": "stdout"
        }
      ]
    },
    {
      "cell_type": "code",
      "metadata": {
        "id": "P_xtcriJs7Y5",
        "colab_type": "code",
        "colab": {}
      },
      "source": [
        "x_train,x_test = x_train/255.0,x_test/255.0"
      ],
      "execution_count": 0,
      "outputs": []
    },
    {
      "cell_type": "code",
      "metadata": {
        "id": "G1EEu5aqtPwA",
        "colab_type": "code",
        "colab": {}
      },
      "source": [
        "x_train = np.expand_dims(x_train,-1) # to convert into 3D images for CNN\n",
        "x_test = np.expand_dims(x_test,-1)"
      ],
      "execution_count": 0,
      "outputs": []
    },
    {
      "cell_type": "code",
      "metadata": {
        "id": "HtUMEElAtsbe",
        "colab_type": "code",
        "outputId": "70855215-6a27-4d0c-e959-56eeecd6c376",
        "colab": {
          "base_uri": "https://localhost:8080/",
          "height": 34
        }
      },
      "source": [
        "print(x_train.shape)"
      ],
      "execution_count": 38,
      "outputs": [
        {
          "output_type": "stream",
          "text": [
            "(60000, 28, 28, 1)\n"
          ],
          "name": "stdout"
        }
      ]
    },
    {
      "cell_type": "code",
      "metadata": {
        "id": "dC5co-WJtuWv",
        "colab_type": "code",
        "outputId": "8cd6294d-a499-49c8-df35-9de519acb537",
        "colab": {
          "base_uri": "https://localhost:8080/",
          "height": 34
        }
      },
      "source": [
        "#total labels\n",
        "\n",
        "k = len(set(y_train))\n",
        "print(k)"
      ],
      "execution_count": 39,
      "outputs": [
        {
          "output_type": "stream",
          "text": [
            "10\n"
          ],
          "name": "stdout"
        }
      ]
    },
    {
      "cell_type": "code",
      "metadata": {
        "id": "at7ILxRFur3S",
        "colab_type": "code",
        "colab": {}
      },
      "source": [
        "#Build the model\n",
        "i = Input(x_train[0].shape)\n",
        "x = Conv2D(32, (3,3),strides = 2,activation='relu')(i)\n",
        "x = Conv2D(64,(3,3),strides=2,activation='relu')(x)\n",
        "x = Conv2D(128,(3,3),strides=2,activation='relu')(x)\n",
        "x = Flatten()(x)\n",
        "x = Dropout(0.2)(x)\n",
        "x = Dense(512,activation='relu')(x)\n",
        "x = Dropout(0.2)(x)\n",
        "x = Dense(k,activation='softmax')(x)\n"
      ],
      "execution_count": 0,
      "outputs": []
    },
    {
      "cell_type": "code",
      "metadata": {
        "id": "NxBhQgg-wr-d",
        "colab_type": "code",
        "colab": {}
      },
      "source": [
        "model = Model(i,x)"
      ],
      "execution_count": 0,
      "outputs": []
    },
    {
      "cell_type": "code",
      "metadata": {
        "id": "mExRE1Vixn1a",
        "colab_type": "code",
        "outputId": "7e332a8c-1a20-4837-c3b6-7c99da51e71c",
        "colab": {
          "base_uri": "https://localhost:8080/",
          "height": 527
        }
      },
      "source": [
        "#compile and fit the model\n",
        "\n",
        "model.compile(optimizer='Adam',loss='sparse_categorical_crossentropy',metrics=['accuracy'])\n",
        "r = model.fit(x_train,y_train, validation_data=(x_test,y_test),epochs = 15)"
      ],
      "execution_count": 42,
      "outputs": [
        {
          "output_type": "stream",
          "text": [
            "Epoch 1/15\n",
            "1875/1875 [==============================] - 10s 5ms/step - loss: 0.5172 - accuracy: 0.8107 - val_loss: 0.3754 - val_accuracy: 0.8591\n",
            "Epoch 2/15\n",
            "1875/1875 [==============================] - 10s 5ms/step - loss: 0.3532 - accuracy: 0.8672 - val_loss: 0.3602 - val_accuracy: 0.8673\n",
            "Epoch 3/15\n",
            "1875/1875 [==============================] - 10s 5ms/step - loss: 0.3079 - accuracy: 0.8839 - val_loss: 0.3088 - val_accuracy: 0.8843\n",
            "Epoch 4/15\n",
            "1875/1875 [==============================] - 10s 5ms/step - loss: 0.2763 - accuracy: 0.8954 - val_loss: 0.3002 - val_accuracy: 0.8910\n",
            "Epoch 5/15\n",
            "1875/1875 [==============================] - 10s 5ms/step - loss: 0.2518 - accuracy: 0.9052 - val_loss: 0.2874 - val_accuracy: 0.8954\n",
            "Epoch 6/15\n",
            "1875/1875 [==============================] - 10s 5ms/step - loss: 0.2303 - accuracy: 0.9126 - val_loss: 0.2867 - val_accuracy: 0.8970\n",
            "Epoch 7/15\n",
            "1875/1875 [==============================] - 10s 5ms/step - loss: 0.2143 - accuracy: 0.9188 - val_loss: 0.2902 - val_accuracy: 0.8982\n",
            "Epoch 8/15\n",
            "1875/1875 [==============================] - 10s 5ms/step - loss: 0.1967 - accuracy: 0.9243 - val_loss: 0.3038 - val_accuracy: 0.8977\n",
            "Epoch 9/15\n",
            "1875/1875 [==============================] - 11s 6ms/step - loss: 0.1849 - accuracy: 0.9298 - val_loss: 0.3088 - val_accuracy: 0.8955\n",
            "Epoch 10/15\n",
            "1875/1875 [==============================] - 10s 5ms/step - loss: 0.1740 - accuracy: 0.9333 - val_loss: 0.3100 - val_accuracy: 0.9020\n",
            "Epoch 11/15\n",
            "1875/1875 [==============================] - 10s 5ms/step - loss: 0.1621 - accuracy: 0.9373 - val_loss: 0.2975 - val_accuracy: 0.9067\n",
            "Epoch 12/15\n",
            "1875/1875 [==============================] - 10s 5ms/step - loss: 0.1531 - accuracy: 0.9410 - val_loss: 0.3504 - val_accuracy: 0.9006\n",
            "Epoch 13/15\n",
            "1875/1875 [==============================] - 10s 5ms/step - loss: 0.1436 - accuracy: 0.9444 - val_loss: 0.3254 - val_accuracy: 0.9045\n",
            "Epoch 14/15\n",
            "1875/1875 [==============================] - 10s 5ms/step - loss: 0.1368 - accuracy: 0.9479 - val_loss: 0.3613 - val_accuracy: 0.8945\n",
            "Epoch 15/15\n",
            "1875/1875 [==============================] - 10s 5ms/step - loss: 0.1294 - accuracy: 0.9508 - val_loss: 0.3693 - val_accuracy: 0.9021\n"
          ],
          "name": "stdout"
        }
      ]
    },
    {
      "cell_type": "code",
      "metadata": {
        "id": "zp5u1p5gyU67",
        "colab_type": "code",
        "colab": {
          "base_uri": "https://localhost:8080/",
          "height": 282
        },
        "outputId": "22931f4b-7719-4610-f804-df16f6e29d7d"
      },
      "source": [
        "#Visualizing Loss and accuracy\n",
        "plt.plot(r.history['loss'],label ='loss')\n",
        "plt.plot(r.history['val_loss'],label = 'Val_loss')\n",
        "plt.legend()"
      ],
      "execution_count": 43,
      "outputs": [
        {
          "output_type": "execute_result",
          "data": {
            "text/plain": [
              "<matplotlib.legend.Legend at 0x7f76add42d30>"
            ]
          },
          "metadata": {
            "tags": []
          },
          "execution_count": 43
        },
        {
          "output_type": "display_data",
          "data": {
            "image/png": "[encoded data removed]",
            "text/plain": [
              "<Figure size 432x288 with 1 Axes>"
            ]
          },
          "metadata": {
            "tags": [],
            "needs_background": "light"
          }
        }
      ]
    },
    {
      "cell_type": "code",
      "metadata": {
        "id": "o_AKVYh108Ku",
        "colab_type": "code",
        "colab": {
          "base_uri": "https://localhost:8080/",
          "height": 282
        },
        "outputId": "180a3dbb-e19d-41d9-fa3a-5f02680b0487"
      },
      "source": [
        "plt.plot(r.history['accuracy'],label ='accuracy')\n",
        "plt.plot(r.history['val_accuracy'],label = 'Val_accuracy')\n",
        "plt.legend()"
      ],
      "execution_count": 44,
      "outputs": [
        {
          "output_type": "execute_result",
          "data": {
            "text/plain": [
              "<matplotlib.legend.Legend at 0x7f76adcb05c0>"
            ]
          },
          "metadata": {
            "tags": []
          },
          "execution_count": 44
        },
        {
          "output_type": "display_data",
          "data": {
            "image/png": "[encoded data removed]",
            "text/plain": [
              "<Figure size 432x288 with 1 Axes>"
            ]
          },
          "metadata": {
            "tags": [],
            "needs_background": "light"
          }
        }
      ]
    },
    {
      "cell_type": "code",
      "metadata": {
        "id": "ZDsYDNAw1DjY",
        "colab_type": "code",
        "colab": {}
      },
      "source": [
        "#Plot confusion matrix\n",
        "from sklearn.metrics import confusion_matrix\n",
        "import numpy as np\n",
        "import itertools\n",
        "import matplotlib.pyplot as plt"
      ],
      "execution_count": 0,
      "outputs": []
    },
    {
      "cell_type": "code",
      "metadata": {
        "id": "IGCJMNBR1Ki8",
        "colab_type": "code",
        "colab": {
          "base_uri": "https://localhost:8080/",
          "height": 498
        },
        "outputId": "c456a52a-7d56-4f12-b17d-a2ac182dfc4b"
      },
      "source": [
        "def plot_confusion_matrix(cm,classes,\n",
        "                          normalize = False,\n",
        "                          title = 'confusion matrix',\n",
        "                          cmap =plt.cm.Blues):\n",
        "  #This function print and plot the confusion matrix\n",
        "  if normalize:\n",
        "      cm = cm.astype('float') / cm.sum(axis = 1)[:, np.newaxis]\n",
        "      print(\"Normalized confusion matrix\")\n",
        "  else:\n",
        "      print('confusion matrix without normalization')\n",
        "  print(cm)\n",
        "\n",
        "  plt.imshow(cm,interpolation='nearest',cmap=cmap)\n",
        "  plt.title(title)\n",
        "  plt.colorbar()\n",
        "  tick_marks = np.arange(len(classes))\n",
        "  plt.xticks(tick_marks,classes,rotation = 45)\n",
        "  plt.yticks(tick_marks,classes)\n",
        "\n",
        "  fmt ='.2f' if normalize else 'd'\n",
        "  thresh = cm.max() / 2.\n",
        "\n",
        "  for i,j in itertools.product(range(cm.shape[0]), range(cm.shape[1])):\n",
        "      plt.text(j, i, format(cm[i, j],fmt),\n",
        "               horizontalalignment='center',\n",
        "               color = 'white' if cm[i,j] > thresh else 'black')\n",
        "  plt.tight_layout()\n",
        "  plt.ylabel(\"True label\")\n",
        "  plt.xlabel(\"Predicted label\")\n",
        "  plt.show()\n",
        "\n",
        "p_test = model.predict(x_test).argmax(axis =1)\n",
        "cm = confusion_matrix(y_test,p_test)\n",
        "plot_confusion_matrix(cm,list(range(10)))"
      ],
      "execution_count": 46,
      "outputs": [
        {
          "output_type": "stream",
          "text": [
            "confusion matrix without normalization\n",
            "[[870   3  21  17   2   1  73   0  13   0]\n",
            " [  3 980   0  12   3   0   1   0   1   0]\n",
            " [ 19   1 869  10  40   0  58   0   3   0]\n",
            " [ 11   5  18 909  27   1  27   0   2   0]\n",
            " [  0   1  67  23 820   0  88   0   1   0]\n",
            " [  0   0   0   0   0 983   0  11   2   4]\n",
            " [135   2  61  23  66   1 699   0  13   0]\n",
            " [  0   0   0   0   0  20   0 938   0  42]\n",
            " [  3   1   1   2   2   3   3   2 981   2]\n",
            " [  1   0   0   0   0   7   0  20   0 972]]\n"
          ],
          "name": "stdout"
        },
        {
          "output_type": "display_data",
          "data": {
            "image/png": "[encoded data removed]",
            "text/plain": [
              "<Figure size 432x288 with 2 Axes>"
            ]
          },
          "metadata": {
            "tags": [],
            "needs_background": "light"
          }
        }
      ]
    },
    {
      "cell_type": "code",
      "metadata": {
        "id": "SzaY2INl1uTC",
        "colab_type": "code",
        "colab": {}
      },
      "source": [
        "#Label Mapping\n",
        "labels = ''' T-shirt/Top\n",
        "Trouser\n",
        "Pullover\n",
        "Dress\n",
        "Coat\n",
        "Sandal\n",
        "Shirt\n",
        "Sneaket\n",
        "Belt\n",
        "AnkleBoot '''.split()"
      ],
      "execution_count": 0,
      "outputs": []
    },
    {
      "cell_type": "code",
      "metadata": {
        "id": "B8UFktHn1PsI",
        "colab_type": "code",
        "colab": {
          "base_uri": "https://localhost:8080/",
          "height": 281
        },
        "outputId": "dad655cb-9681-4718-f355-d8930d3330c8"
      },
      "source": [
        "#Show some misclassified examples\n",
        "misclassified_idx = np.where(p_test != y_test)[0]\n",
        "i= np.random.choice(misclassified_idx)\n",
        "plt.imshow(x_test[i].reshape(28,28), cmap='gray')\n",
        "plt.title(\"True Label %s Predicted label %s:\"% (labels[y_test[i]],labels[p_test[i]]));"
      ],
      "execution_count": 52,
      "outputs": [
        {
          "output_type": "display_data",
          "data": {
            "image/png": "[encoded data removed]",
            "text/plain": [
              "<Figure size 432x288 with 1 Axes>"
            ]
          },
          "metadata": {
            "tags": [],
            "needs_background": "light"
          }
        }
      ]
    },
    {
      "cell_type": "code",
      "metadata": {
        "id": "nAW4GGEl1coY",
        "colab_type": "code",
        "colab": {}
      },
      "source": [
        ""
      ],
      "execution_count": 0,
      "outputs": []
    }
  ]
}